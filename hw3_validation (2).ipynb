{
 "cells": [
  {
   "cell_type": "markdown",
   "metadata": {},
   "source": [
    "# Homework 3 \n",
    "\n",
    "You will have 2 datasets to work on. \n",
    "#### You have to answer questions in this [form](https://goo.gl/forms/5gfxvKZxpoydoeOB2) and provide your code\n",
    "\n",
    "### 1. Wikipedia Web Traffic Time Series\n",
    "\n",
    "Data from [Kaggle competition](https://www.kaggle.com/c/web-traffic-time-series-forecasting)* )\n",
    "\n",
    "*wikipedia_train3* - train data *wikipedia_test3* - test data created by us from original train data . For more information about dataset, please visit Homework1 assignment\n",
    "\n",
    "\n",
    "### 2. French dataset\n",
    "\n",
    "Target variable is prime_tot_ttc – house of insurance price.<p>\n",
    "The variables in the files are:<p>\n",
    "code_postal: postal code of the insured property<p>\n",
    "nb_pieces: number of rooms<p>\n",
    "veranda: presence of a veranda<p>\n",
    "biens_nomades: ceiling of coverage of goods (laptop, tablets, musical instruments ,…)<p>\n",
    "sit_fam: family situation of the insured<p>\n",
    "profession: profession of the insured<p>\n",
    "nature_lri: nature of the insured property<p>\n",
    "societe: company covering the risk<p>\n",
    "cdomact: area of activity of the insured<p>\n",
    "niv_urbanisation: level of urbanization in which is the insured property<p>\n",
    "age_societaire: age of the member<p>\n",
    "objets_precieux: presence of precious objects in the insured property<p>\n",
    "pres_contrat_auto: holding a contract of auto insurance<p>\n",
    "formule: guarantee formula<p>\n",
    "sit_juridique: legal situation<p>\n",
    "surf_habitat: area of insured property<p>\n",
    "patrimoine_mob: amount of heritage insured furniture<p>\n",
    "var1 - ... - var11: non-explicit variables<p>\n"
   ]
  },
  {
   "cell_type": "markdown",
   "metadata": {},
   "source": [
    "## Wikipedia page views (SMAPE metric)"
   ]
  },
  {
   "cell_type": "code",
   "execution_count": 52,
   "metadata": {
    "collapsed": true
   },
   "outputs": [],
   "source": [
    "import pandas as pd\n",
    "import numpy as np"
   ]
  },
  {
   "cell_type": "code",
   "execution_count": 53,
   "metadata": {
    "collapsed": true
   },
   "outputs": [],
   "source": [
    "### This is data from wikipedia3 archive in data folder\n",
    "\n",
    "train = pd.read_csv(\"wikipedia_train3.csv\")\n",
    "test = pd.read_csv(\"wikipedia_test3.csv\")"
   ]
  },
  {
   "cell_type": "code",
   "execution_count": 27,
   "metadata": {},
   "outputs": [
    {
     "data": {
      "text/plain": [
       "(2882860, 3)"
      ]
     },
     "execution_count": 27,
     "metadata": {},
     "output_type": "execute_result"
    }
   ],
   "source": [
    "train.shape"
   ]
  },
  {
   "cell_type": "code",
   "execution_count": 28,
   "metadata": {},
   "outputs": [
    {
     "data": {
      "text/plain": [
       "(2882860, 3)"
      ]
     },
     "execution_count": 28,
     "metadata": {},
     "output_type": "execute_result"
    }
   ],
   "source": [
    "train.dropna().shape"
   ]
  },
  {
   "cell_type": "code",
   "execution_count": 29,
   "metadata": {},
   "outputs": [
    {
     "data": {
      "text/html": [
       "<div>\n",
       "<style>\n",
       "    .dataframe thead tr:only-child th {\n",
       "        text-align: right;\n",
       "    }\n",
       "\n",
       "    .dataframe thead th {\n",
       "        text-align: left;\n",
       "    }\n",
       "\n",
       "    .dataframe tbody tr th {\n",
       "        vertical-align: top;\n",
       "    }\n",
       "</style>\n",
       "<table border=\"1\" class=\"dataframe\">\n",
       "  <thead>\n",
       "    <tr style=\"text-align: right;\">\n",
       "      <th></th>\n",
       "      <th>Page</th>\n",
       "      <th>date</th>\n",
       "      <th>Visits</th>\n",
       "    </tr>\n",
       "  </thead>\n",
       "  <tbody>\n",
       "    <tr>\n",
       "      <th>0</th>\n",
       "      <td>Special:Search_zh.wikipedia.org_all-access_spider</td>\n",
       "      <td>2016-01-01</td>\n",
       "      <td>2660.0</td>\n",
       "    </tr>\n",
       "    <tr>\n",
       "      <th>1</th>\n",
       "      <td>Wikipedia:首页_zh.wikipedia.org_all-access_spider</td>\n",
       "      <td>2016-01-01</td>\n",
       "      <td>9936.0</td>\n",
       "    </tr>\n",
       "    <tr>\n",
       "      <th>2</th>\n",
       "      <td>Project:上传_zh.wikipedia.org_all-access_spider</td>\n",
       "      <td>2016-01-01</td>\n",
       "      <td>1712.0</td>\n",
       "    </tr>\n",
       "    <tr>\n",
       "      <th>3</th>\n",
       "      <td>Special:用户登录_zh.wikipedia.org_all-access_spider</td>\n",
       "      <td>2016-01-01</td>\n",
       "      <td>3175.0</td>\n",
       "    </tr>\n",
       "    <tr>\n",
       "      <th>4</th>\n",
       "      <td>Championnat_d'Europe_de_football_2016_fr.wikip...</td>\n",
       "      <td>2016-01-01</td>\n",
       "      <td>1682.0</td>\n",
       "    </tr>\n",
       "  </tbody>\n",
       "</table>\n",
       "</div>"
      ],
      "text/plain": [
       "                                                Page        date  Visits\n",
       "0  Special:Search_zh.wikipedia.org_all-access_spider  2016-01-01  2660.0\n",
       "1    Wikipedia:首页_zh.wikipedia.org_all-access_spider  2016-01-01  9936.0\n",
       "2      Project:上传_zh.wikipedia.org_all-access_spider  2016-01-01  1712.0\n",
       "3    Special:用户登录_zh.wikipedia.org_all-access_spider  2016-01-01  3175.0\n",
       "4  Championnat_d'Europe_de_football_2016_fr.wikip...  2016-01-01  1682.0"
      ]
     },
     "execution_count": 29,
     "metadata": {},
     "output_type": "execute_result"
    }
   ],
   "source": [
    "train.head()"
   ]
  },
  {
   "cell_type": "code",
   "execution_count": 30,
   "metadata": {},
   "outputs": [
    {
     "data": {
      "text/html": [
       "<div>\n",
       "<style>\n",
       "    .dataframe thead tr:only-child th {\n",
       "        text-align: right;\n",
       "    }\n",
       "\n",
       "    .dataframe thead th {\n",
       "        text-align: left;\n",
       "    }\n",
       "\n",
       "    .dataframe tbody tr th {\n",
       "        vertical-align: top;\n",
       "    }\n",
       "</style>\n",
       "<table border=\"1\" class=\"dataframe\">\n",
       "  <thead>\n",
       "    <tr style=\"text-align: right;\">\n",
       "      <th></th>\n",
       "      <th>Page</th>\n",
       "      <th>date</th>\n",
       "      <th>Visits</th>\n",
       "    </tr>\n",
       "  </thead>\n",
       "  <tbody>\n",
       "    <tr>\n",
       "      <th>2882855</th>\n",
       "      <td>The_Revenant_–_Der_Rückkehrer_de.wikipedia.org...</td>\n",
       "      <td>2016-08-31</td>\n",
       "      <td>942.0</td>\n",
       "    </tr>\n",
       "    <tr>\n",
       "      <th>2882856</th>\n",
       "      <td>Especial:Entrar_es.wikipedia.org_all-access_sp...</td>\n",
       "      <td>2016-08-31</td>\n",
       "      <td>1193.0</td>\n",
       "    </tr>\n",
       "    <tr>\n",
       "      <th>2882857</th>\n",
       "      <td>Especial:Libro_es.wikipedia.org_all-access_spider</td>\n",
       "      <td>2016-08-31</td>\n",
       "      <td>1862.0</td>\n",
       "    </tr>\n",
       "    <tr>\n",
       "      <th>2882858</th>\n",
       "      <td>Special:Search_es.wikipedia.org_all-access_spider</td>\n",
       "      <td>2016-08-31</td>\n",
       "      <td>7217.0</td>\n",
       "    </tr>\n",
       "    <tr>\n",
       "      <th>2882859</th>\n",
       "      <td>Wikipedia:Portada_es.wikipedia.org_all-access_...</td>\n",
       "      <td>2016-08-31</td>\n",
       "      <td>57752.0</td>\n",
       "    </tr>\n",
       "  </tbody>\n",
       "</table>\n",
       "</div>"
      ],
      "text/plain": [
       "                                                      Page        date  \\\n",
       "2882855  The_Revenant_–_Der_Rückkehrer_de.wikipedia.org...  2016-08-31   \n",
       "2882856  Especial:Entrar_es.wikipedia.org_all-access_sp...  2016-08-31   \n",
       "2882857  Especial:Libro_es.wikipedia.org_all-access_spider  2016-08-31   \n",
       "2882858  Special:Search_es.wikipedia.org_all-access_spider  2016-08-31   \n",
       "2882859  Wikipedia:Portada_es.wikipedia.org_all-access_...  2016-08-31   \n",
       "\n",
       "          Visits  \n",
       "2882855    942.0  \n",
       "2882856   1193.0  \n",
       "2882857   1862.0  \n",
       "2882858   7217.0  \n",
       "2882859  57752.0  "
      ]
     },
     "execution_count": 30,
     "metadata": {},
     "output_type": "execute_result"
    }
   ],
   "source": [
    "train.tail()"
   ]
  },
  {
   "cell_type": "code",
   "execution_count": 31,
   "metadata": {},
   "outputs": [
    {
     "data": {
      "text/plain": [
       "(11815,)"
      ]
     },
     "execution_count": 31,
     "metadata": {},
     "output_type": "execute_result"
    }
   ],
   "source": [
    "train.Page.value_counts().shape"
   ]
  },
  {
   "cell_type": "code",
   "execution_count": 32,
   "metadata": {},
   "outputs": [
    {
     "data": {
      "text/plain": [
       "(244,)"
      ]
     },
     "execution_count": 32,
     "metadata": {},
     "output_type": "execute_result"
    }
   ],
   "source": [
    "train.date.value_counts().shape"
   ]
  },
  {
   "cell_type": "code",
   "execution_count": 33,
   "metadata": {},
   "outputs": [
    {
     "data": {
      "text/plain": [
       "(732530, 3)"
      ]
     },
     "execution_count": 33,
     "metadata": {},
     "output_type": "execute_result"
    }
   ],
   "source": [
    "test.shape"
   ]
  },
  {
   "cell_type": "code",
   "execution_count": 34,
   "metadata": {},
   "outputs": [
    {
     "data": {
      "text/plain": [
       "(732530, 3)"
      ]
     },
     "execution_count": 34,
     "metadata": {},
     "output_type": "execute_result"
    }
   ],
   "source": [
    "test.dropna().shape"
   ]
  },
  {
   "cell_type": "code",
   "execution_count": 35,
   "metadata": {},
   "outputs": [
    {
     "data": {
      "text/html": [
       "<div>\n",
       "<style>\n",
       "    .dataframe thead tr:only-child th {\n",
       "        text-align: right;\n",
       "    }\n",
       "\n",
       "    .dataframe thead th {\n",
       "        text-align: left;\n",
       "    }\n",
       "\n",
       "    .dataframe tbody tr th {\n",
       "        vertical-align: top;\n",
       "    }\n",
       "</style>\n",
       "<table border=\"1\" class=\"dataframe\">\n",
       "  <thead>\n",
       "    <tr style=\"text-align: right;\">\n",
       "      <th></th>\n",
       "      <th>Page</th>\n",
       "      <th>date</th>\n",
       "      <th>Visits</th>\n",
       "    </tr>\n",
       "  </thead>\n",
       "  <tbody>\n",
       "    <tr>\n",
       "      <th>0</th>\n",
       "      <td>Special:Search_zh.wikipedia.org_all-access_spider</td>\n",
       "      <td>2016-09-10</td>\n",
       "      <td>640.0</td>\n",
       "    </tr>\n",
       "    <tr>\n",
       "      <th>1</th>\n",
       "      <td>Wikipedia:首页_zh.wikipedia.org_all-access_spider</td>\n",
       "      <td>2016-09-10</td>\n",
       "      <td>5609.0</td>\n",
       "    </tr>\n",
       "    <tr>\n",
       "      <th>2</th>\n",
       "      <td>Project:上传_zh.wikipedia.org_all-access_spider</td>\n",
       "      <td>2016-09-10</td>\n",
       "      <td>3121.0</td>\n",
       "    </tr>\n",
       "    <tr>\n",
       "      <th>3</th>\n",
       "      <td>Special:用户登录_zh.wikipedia.org_all-access_spider</td>\n",
       "      <td>2016-09-10</td>\n",
       "      <td>362.0</td>\n",
       "    </tr>\n",
       "    <tr>\n",
       "      <th>4</th>\n",
       "      <td>Championnat_d'Europe_de_football_2016_fr.wikip...</td>\n",
       "      <td>2016-09-10</td>\n",
       "      <td>533.0</td>\n",
       "    </tr>\n",
       "  </tbody>\n",
       "</table>\n",
       "</div>"
      ],
      "text/plain": [
       "                                                Page        date  Visits\n",
       "0  Special:Search_zh.wikipedia.org_all-access_spider  2016-09-10   640.0\n",
       "1    Wikipedia:首页_zh.wikipedia.org_all-access_spider  2016-09-10  5609.0\n",
       "2      Project:上传_zh.wikipedia.org_all-access_spider  2016-09-10  3121.0\n",
       "3    Special:用户登录_zh.wikipedia.org_all-access_spider  2016-09-10   362.0\n",
       "4  Championnat_d'Europe_de_football_2016_fr.wikip...  2016-09-10   533.0"
      ]
     },
     "execution_count": 35,
     "metadata": {},
     "output_type": "execute_result"
    }
   ],
   "source": [
    "test.head()"
   ]
  },
  {
   "cell_type": "code",
   "execution_count": 36,
   "metadata": {},
   "outputs": [
    {
     "data": {
      "text/html": [
       "<div>\n",
       "<style>\n",
       "    .dataframe thead tr:only-child th {\n",
       "        text-align: right;\n",
       "    }\n",
       "\n",
       "    .dataframe thead th {\n",
       "        text-align: left;\n",
       "    }\n",
       "\n",
       "    .dataframe tbody tr th {\n",
       "        vertical-align: top;\n",
       "    }\n",
       "</style>\n",
       "<table border=\"1\" class=\"dataframe\">\n",
       "  <thead>\n",
       "    <tr style=\"text-align: right;\">\n",
       "      <th></th>\n",
       "      <th>Page</th>\n",
       "      <th>date</th>\n",
       "      <th>Visits</th>\n",
       "    </tr>\n",
       "  </thead>\n",
       "  <tbody>\n",
       "    <tr>\n",
       "      <th>732525</th>\n",
       "      <td>The_Revenant_–_Der_Rückkehrer_de.wikipedia.org...</td>\n",
       "      <td>2016-11-10</td>\n",
       "      <td>1836.0</td>\n",
       "    </tr>\n",
       "    <tr>\n",
       "      <th>732526</th>\n",
       "      <td>Especial:Entrar_es.wikipedia.org_all-access_sp...</td>\n",
       "      <td>2016-11-10</td>\n",
       "      <td>568.0</td>\n",
       "    </tr>\n",
       "    <tr>\n",
       "      <th>732527</th>\n",
       "      <td>Especial:Libro_es.wikipedia.org_all-access_spider</td>\n",
       "      <td>2016-11-10</td>\n",
       "      <td>1561.0</td>\n",
       "    </tr>\n",
       "    <tr>\n",
       "      <th>732528</th>\n",
       "      <td>Special:Search_es.wikipedia.org_all-access_spider</td>\n",
       "      <td>2016-11-10</td>\n",
       "      <td>4624.0</td>\n",
       "    </tr>\n",
       "    <tr>\n",
       "      <th>732529</th>\n",
       "      <td>Wikipedia:Portada_es.wikipedia.org_all-access_...</td>\n",
       "      <td>2016-11-10</td>\n",
       "      <td>56413.0</td>\n",
       "    </tr>\n",
       "  </tbody>\n",
       "</table>\n",
       "</div>"
      ],
      "text/plain": [
       "                                                     Page        date   Visits\n",
       "732525  The_Revenant_–_Der_Rückkehrer_de.wikipedia.org...  2016-11-10   1836.0\n",
       "732526  Especial:Entrar_es.wikipedia.org_all-access_sp...  2016-11-10    568.0\n",
       "732527  Especial:Libro_es.wikipedia.org_all-access_spider  2016-11-10   1561.0\n",
       "732528  Special:Search_es.wikipedia.org_all-access_spider  2016-11-10   4624.0\n",
       "732529  Wikipedia:Portada_es.wikipedia.org_all-access_...  2016-11-10  56413.0"
      ]
     },
     "execution_count": 36,
     "metadata": {},
     "output_type": "execute_result"
    }
   ],
   "source": [
    "test.tail()"
   ]
  },
  {
   "cell_type": "code",
   "execution_count": 13,
   "metadata": {},
   "outputs": [
    {
     "data": {
      "text/plain": [
       "(11815,)"
      ]
     },
     "execution_count": 13,
     "metadata": {},
     "output_type": "execute_result"
    }
   ],
   "source": [
    "test.Page.value_counts().shape"
   ]
  },
  {
   "cell_type": "code",
   "execution_count": 14,
   "metadata": {},
   "outputs": [
    {
     "data": {
      "text/plain": [
       "(62,)"
      ]
     },
     "execution_count": 14,
     "metadata": {},
     "output_type": "execute_result"
    }
   ],
   "source": [
    "test.date.value_counts().shape"
   ]
  },
  {
   "cell_type": "markdown",
   "metadata": {},
   "source": [
    "**1.** Take a look carefuly at train and test dataset. Note for you what is the difference in them and how they are dependent. **For _only_ train** create a holdout validation using any type of split you think is useful here. What is the split type you are using? Answer in google forms\n",
    "\n",
    "**2.** Write a code to compare the score of your validation and test set. For scoring, use metric SMAPE (code is in lecture). For prediction use 15 previous days median. In the google form write your validation score."
   ]
  },
  {
   "cell_type": "code",
   "execution_count": 54,
   "metadata": {
    "collapsed": true
   },
   "outputs": [],
   "source": [
    "def smape_fast(y_true, y_pred):\n",
    "    out = 0\n",
    "    for i in range(y_true.shape[0]):\n",
    "        a = y_true.iloc[i]\n",
    "        b = y_pred[i]\n",
    "        if b < 1:\n",
    "            b = 0\n",
    "        c = a+b\n",
    "        if c == 0:\n",
    "            continue\n",
    "        out += math.fabs(a - b) / c\n",
    "    out *= (200.0 / y_true.shape[0])\n",
    "    return out"
   ]
  },
  {
   "cell_type": "code",
   "execution_count": 57,
   "metadata": {
    "collapsed": true
   },
   "outputs": [],
   "source": [
    "traintrain = train.loc[:11815*188-1, :]\n",
    "trainvalidation = train.loc[11815*196:, :]"
   ]
  },
  {
   "cell_type": "code",
   "execution_count": 58,
   "metadata": {
    "collapsed": true
   },
   "outputs": [],
   "source": [
    "traintrain_pivot = traintrain.pivot_table(values='Visits', index='Page', columns='date')\n",
    "trainvalidation_pivot = trainvalidation.pivot_table(values='Visits', index='Page', columns='date')"
   ]
  },
  {
   "cell_type": "code",
   "execution_count": 59,
   "metadata": {},
   "outputs": [
    {
     "data": {
      "text/plain": [
       "42.124723792105939"
      ]
     },
     "execution_count": 59,
     "metadata": {},
     "output_type": "execute_result"
    }
   ],
   "source": [
    "trainvalidation_pivot_pred = pd.DataFrame({i:np.median(traintrain_pivot.iloc[:,((-1)*15):], axis = 1) for i in trainvalidation_pivot.columns[0:]})\n",
    "\n",
    "trainvalidation_pivot_pred['Page'] = trainvalidation_pivot.index\n",
    "trainvalidation_pivot_predm = pd.melt(trainvalidation_pivot_pred, value_vars=trainvalidation_pivot_pred.columns[:-1], id_vars='Page')\n",
    "\n",
    "trainvalidation_pivotm = pd.melt(trainvalidation_pivot, value_vars=trainvalidation_pivot.columns[1:], id_vars='Page')\n",
    "trainvalidation_pivotm['pred_Visits'] = trainvalidation_pivot_predm.value\n",
    "trainvalidation_pivotm.rename(columns={'variable':'date', 'value':'Visits'}, inplace = True)\n",
    "\n",
    "smape_fast(trainvalidation_pivotm['Visits'], trainvalidation_pivotm['pred_Visits'])"
   ]
  },
  {
   "cell_type": "markdown",
   "metadata": {
    "collapsed": true
   },
   "source": [
    "**3.** Perform K-fold validation using your type of split. Run GridSearch with any classificator you like and set of parameters to optimize, providing it with your custom validation.  Compare the score of your validation and test set. For scoring, again, use metrics SMAPE. In the google form write your scores on validation and test sets"
   ]
  },
  {
   "cell_type": "code",
   "execution_count": 75,
   "metadata": {
    "collapsed": true
   },
   "outputs": [],
   "source": [
    "train = pd.read_csv(\"wikipedia_train3.csv\", parse_dates=['date'])\n",
    "test = pd.read_csv(\"wikipedia_test3.csv\", parse_dates=['date'])"
   ]
  },
  {
   "cell_type": "code",
   "execution_count": 76,
   "metadata": {
    "collapsed": true
   },
   "outputs": [],
   "source": [
    "train['Month']     = train[\"date\"].dt.month\n",
    "train['Day']       = train[\"date\"].dt.day\n",
    "train['DayOfWeek'] = train[\"date\"].dt.dayofweek\n",
    "\n",
    "test['Month']     = test[\"date\"].dt.month\n",
    "test['Day']       = test[\"date\"].dt.day\n",
    "test['DayOfWeek'] = test[\"date\"].dt.dayofweek"
   ]
  },
  {
   "cell_type": "code",
   "execution_count": 77,
   "metadata": {
    "collapsed": true
   },
   "outputs": [],
   "source": [
    "from dateutil.relativedelta import relativedelta\n",
    "import math"
   ]
  },
  {
   "cell_type": "code",
   "execution_count": 78,
   "metadata": {
    "collapsed": true
   },
   "outputs": [],
   "source": [
    "### Your code here\n",
    "def create_validation(df, start_date):\n",
    "    return df.loc[(df['date'] >= pd.to_datetime(start_date) - relativedelta(days=0)) & \\\n",
    "                  (df['date'] <  pd.to_datetime(start_date) + relativedelta(months=6))].index, \\\n",
    "           df.loc[(df['date'] >= pd.to_datetime(start_date) + relativedelta(months=6)) & \\\n",
    "                  (df['date'] <  pd.to_datetime(start_date) + relativedelta(months=12))].index"
   ]
  },
  {
   "cell_type": "code",
   "execution_count": 79,
   "metadata": {
    "collapsed": true
   },
   "outputs": [],
   "source": [
    "train_dates = ['2014-06-01', '2014-03-01', '2015-05-01', '2015-07-01']\n",
    "\n",
    "myCViterator = []\n",
    "for i in train_dates:\n",
    "    trainIndices, valIndices = create_validation(train, i)\n",
    "    myCViterator.append((trainIndices, valIndices))"
   ]
  },
  {
   "cell_type": "code",
   "execution_count": 69,
   "metadata": {},
   "outputs": [
    {
     "data": {
      "text/html": [
       "<div>\n",
       "<style>\n",
       "    .dataframe thead tr:only-child th {\n",
       "        text-align: right;\n",
       "    }\n",
       "\n",
       "    .dataframe thead th {\n",
       "        text-align: left;\n",
       "    }\n",
       "\n",
       "    .dataframe tbody tr th {\n",
       "        vertical-align: top;\n",
       "    }\n",
       "</style>\n",
       "<table border=\"1\" class=\"dataframe\">\n",
       "  <thead>\n",
       "    <tr style=\"text-align: right;\">\n",
       "      <th></th>\n",
       "      <th>Page</th>\n",
       "      <th>date</th>\n",
       "      <th>Visits</th>\n",
       "      <th>Month</th>\n",
       "      <th>Day</th>\n",
       "      <th>DayOfWeek</th>\n",
       "    </tr>\n",
       "  </thead>\n",
       "  <tbody>\n",
       "    <tr>\n",
       "      <th>0</th>\n",
       "      <td>Special:Search_zh.wikipedia.org_all-access_spider</td>\n",
       "      <td>2016-01-01</td>\n",
       "      <td>2660.0</td>\n",
       "      <td>1</td>\n",
       "      <td>1</td>\n",
       "      <td>4</td>\n",
       "    </tr>\n",
       "    <tr>\n",
       "      <th>1</th>\n",
       "      <td>Wikipedia:首页_zh.wikipedia.org_all-access_spider</td>\n",
       "      <td>2016-01-01</td>\n",
       "      <td>9936.0</td>\n",
       "      <td>1</td>\n",
       "      <td>1</td>\n",
       "      <td>4</td>\n",
       "    </tr>\n",
       "    <tr>\n",
       "      <th>2</th>\n",
       "      <td>Project:上传_zh.wikipedia.org_all-access_spider</td>\n",
       "      <td>2016-01-01</td>\n",
       "      <td>1712.0</td>\n",
       "      <td>1</td>\n",
       "      <td>1</td>\n",
       "      <td>4</td>\n",
       "    </tr>\n",
       "    <tr>\n",
       "      <th>3</th>\n",
       "      <td>Special:用户登录_zh.wikipedia.org_all-access_spider</td>\n",
       "      <td>2016-01-01</td>\n",
       "      <td>3175.0</td>\n",
       "      <td>1</td>\n",
       "      <td>1</td>\n",
       "      <td>4</td>\n",
       "    </tr>\n",
       "    <tr>\n",
       "      <th>4</th>\n",
       "      <td>Championnat_d'Europe_de_football_2016_fr.wikip...</td>\n",
       "      <td>2016-01-01</td>\n",
       "      <td>1682.0</td>\n",
       "      <td>1</td>\n",
       "      <td>1</td>\n",
       "      <td>4</td>\n",
       "    </tr>\n",
       "  </tbody>\n",
       "</table>\n",
       "</div>"
      ],
      "text/plain": [
       "                                                Page       date  Visits  \\\n",
       "0  Special:Search_zh.wikipedia.org_all-access_spider 2016-01-01  2660.0   \n",
       "1    Wikipedia:首页_zh.wikipedia.org_all-access_spider 2016-01-01  9936.0   \n",
       "2      Project:上传_zh.wikipedia.org_all-access_spider 2016-01-01  1712.0   \n",
       "3    Special:用户登录_zh.wikipedia.org_all-access_spider 2016-01-01  3175.0   \n",
       "4  Championnat_d'Europe_de_football_2016_fr.wikip... 2016-01-01  1682.0   \n",
       "\n",
       "   Month  Day  DayOfWeek  \n",
       "0      1    1          4  \n",
       "1      1    1          4  \n",
       "2      1    1          4  \n",
       "3      1    1          4  \n",
       "4      1    1          4  "
      ]
     },
     "execution_count": 69,
     "metadata": {},
     "output_type": "execute_result"
    }
   ],
   "source": [
    "train.head()"
   ]
  },
  {
   "cell_type": "code",
   "execution_count": 80,
   "metadata": {
    "collapsed": true
   },
   "outputs": [],
   "source": [
    "X = train.drop(['Page', 'date', 'Visits'], axis = 1)\n",
    "y = train['Visits']\n",
    "\n",
    "X_test = test.drop(['Page', 'date', 'Visits'], axis = 1)\n",
    "y_test = test['Visits']"
   ]
  },
  {
   "cell_type": "code",
   "execution_count": 81,
   "metadata": {},
   "outputs": [
    {
     "ename": "ValueError",
     "evalue": "Found array with 0 sample(s) (shape=(0, 3)) while a minimum of 1 is required.",
     "output_type": "error",
     "traceback": [
      "\u001b[0;31m---------------------------------------------------------------------------\u001b[0m",
      "\u001b[0;31mValueError\u001b[0m                                Traceback (most recent call last)",
      "\u001b[0;32m<timed eval>\u001b[0m in \u001b[0;36m<module>\u001b[0;34m()\u001b[0m\n",
      "\u001b[0;32m~/anaconda3/lib/python3.6/site-packages/sklearn/model_selection/_search.py\u001b[0m in \u001b[0;36mfit\u001b[0;34m(self, X, y, groups, **fit_params)\u001b[0m\n\u001b[1;32m    637\u001b[0m                                   error_score=self.error_score)\n\u001b[1;32m    638\u001b[0m           for parameters, (train, test) in product(candidate_params,\n\u001b[0;32m--> 639\u001b[0;31m                                                    cv.split(X, y, groups)))\n\u001b[0m\u001b[1;32m    640\u001b[0m \u001b[0;34m\u001b[0m\u001b[0m\n\u001b[1;32m    641\u001b[0m         \u001b[0;31m# if one choose to see train score, \"out\" will contain train score info\u001b[0m\u001b[0;34m\u001b[0m\u001b[0;34m\u001b[0m\u001b[0m\n",
      "\u001b[0;32m~/anaconda3/lib/python3.6/site-packages/sklearn/externals/joblib/parallel.py\u001b[0m in \u001b[0;36m__call__\u001b[0;34m(self, iterable)\u001b[0m\n\u001b[1;32m    777\u001b[0m             \u001b[0;31m# was dispatched. In particular this covers the edge\u001b[0m\u001b[0;34m\u001b[0m\u001b[0;34m\u001b[0m\u001b[0m\n\u001b[1;32m    778\u001b[0m             \u001b[0;31m# case of Parallel used with an exhausted iterator.\u001b[0m\u001b[0;34m\u001b[0m\u001b[0;34m\u001b[0m\u001b[0m\n\u001b[0;32m--> 779\u001b[0;31m             \u001b[0;32mwhile\u001b[0m \u001b[0mself\u001b[0m\u001b[0;34m.\u001b[0m\u001b[0mdispatch_one_batch\u001b[0m\u001b[0;34m(\u001b[0m\u001b[0miterator\u001b[0m\u001b[0;34m)\u001b[0m\u001b[0;34m:\u001b[0m\u001b[0;34m\u001b[0m\u001b[0m\n\u001b[0m\u001b[1;32m    780\u001b[0m                 \u001b[0mself\u001b[0m\u001b[0;34m.\u001b[0m\u001b[0m_iterating\u001b[0m \u001b[0;34m=\u001b[0m \u001b[0;32mTrue\u001b[0m\u001b[0;34m\u001b[0m\u001b[0m\n\u001b[1;32m    781\u001b[0m             \u001b[0;32melse\u001b[0m\u001b[0;34m:\u001b[0m\u001b[0;34m\u001b[0m\u001b[0m\n",
      "\u001b[0;32m~/anaconda3/lib/python3.6/site-packages/sklearn/externals/joblib/parallel.py\u001b[0m in \u001b[0;36mdispatch_one_batch\u001b[0;34m(self, iterator)\u001b[0m\n\u001b[1;32m    623\u001b[0m                 \u001b[0;32mreturn\u001b[0m \u001b[0;32mFalse\u001b[0m\u001b[0;34m\u001b[0m\u001b[0m\n\u001b[1;32m    624\u001b[0m             \u001b[0;32melse\u001b[0m\u001b[0;34m:\u001b[0m\u001b[0;34m\u001b[0m\u001b[0m\n\u001b[0;32m--> 625\u001b[0;31m                 \u001b[0mself\u001b[0m\u001b[0;34m.\u001b[0m\u001b[0m_dispatch\u001b[0m\u001b[0;34m(\u001b[0m\u001b[0mtasks\u001b[0m\u001b[0;34m)\u001b[0m\u001b[0;34m\u001b[0m\u001b[0m\n\u001b[0m\u001b[1;32m    626\u001b[0m                 \u001b[0;32mreturn\u001b[0m \u001b[0;32mTrue\u001b[0m\u001b[0;34m\u001b[0m\u001b[0m\n\u001b[1;32m    627\u001b[0m \u001b[0;34m\u001b[0m\u001b[0m\n",
      "\u001b[0;32m~/anaconda3/lib/python3.6/site-packages/sklearn/externals/joblib/parallel.py\u001b[0m in \u001b[0;36m_dispatch\u001b[0;34m(self, batch)\u001b[0m\n\u001b[1;32m    586\u001b[0m         \u001b[0mdispatch_timestamp\u001b[0m \u001b[0;34m=\u001b[0m \u001b[0mtime\u001b[0m\u001b[0;34m.\u001b[0m\u001b[0mtime\u001b[0m\u001b[0;34m(\u001b[0m\u001b[0;34m)\u001b[0m\u001b[0;34m\u001b[0m\u001b[0m\n\u001b[1;32m    587\u001b[0m         \u001b[0mcb\u001b[0m \u001b[0;34m=\u001b[0m \u001b[0mBatchCompletionCallBack\u001b[0m\u001b[0;34m(\u001b[0m\u001b[0mdispatch_timestamp\u001b[0m\u001b[0;34m,\u001b[0m \u001b[0mlen\u001b[0m\u001b[0;34m(\u001b[0m\u001b[0mbatch\u001b[0m\u001b[0;34m)\u001b[0m\u001b[0;34m,\u001b[0m \u001b[0mself\u001b[0m\u001b[0;34m)\u001b[0m\u001b[0;34m\u001b[0m\u001b[0m\n\u001b[0;32m--> 588\u001b[0;31m         \u001b[0mjob\u001b[0m \u001b[0;34m=\u001b[0m \u001b[0mself\u001b[0m\u001b[0;34m.\u001b[0m\u001b[0m_backend\u001b[0m\u001b[0;34m.\u001b[0m\u001b[0mapply_async\u001b[0m\u001b[0;34m(\u001b[0m\u001b[0mbatch\u001b[0m\u001b[0;34m,\u001b[0m \u001b[0mcallback\u001b[0m\u001b[0;34m=\u001b[0m\u001b[0mcb\u001b[0m\u001b[0;34m)\u001b[0m\u001b[0;34m\u001b[0m\u001b[0m\n\u001b[0m\u001b[1;32m    589\u001b[0m         \u001b[0mself\u001b[0m\u001b[0;34m.\u001b[0m\u001b[0m_jobs\u001b[0m\u001b[0;34m.\u001b[0m\u001b[0mappend\u001b[0m\u001b[0;34m(\u001b[0m\u001b[0mjob\u001b[0m\u001b[0;34m)\u001b[0m\u001b[0;34m\u001b[0m\u001b[0m\n\u001b[1;32m    590\u001b[0m \u001b[0;34m\u001b[0m\u001b[0m\n",
      "\u001b[0;32m~/anaconda3/lib/python3.6/site-packages/sklearn/externals/joblib/_parallel_backends.py\u001b[0m in \u001b[0;36mapply_async\u001b[0;34m(self, func, callback)\u001b[0m\n\u001b[1;32m    109\u001b[0m     \u001b[0;32mdef\u001b[0m \u001b[0mapply_async\u001b[0m\u001b[0;34m(\u001b[0m\u001b[0mself\u001b[0m\u001b[0;34m,\u001b[0m \u001b[0mfunc\u001b[0m\u001b[0;34m,\u001b[0m \u001b[0mcallback\u001b[0m\u001b[0;34m=\u001b[0m\u001b[0;32mNone\u001b[0m\u001b[0;34m)\u001b[0m\u001b[0;34m:\u001b[0m\u001b[0;34m\u001b[0m\u001b[0m\n\u001b[1;32m    110\u001b[0m         \u001b[0;34m\"\"\"Schedule a func to be run\"\"\"\u001b[0m\u001b[0;34m\u001b[0m\u001b[0m\n\u001b[0;32m--> 111\u001b[0;31m         \u001b[0mresult\u001b[0m \u001b[0;34m=\u001b[0m \u001b[0mImmediateResult\u001b[0m\u001b[0;34m(\u001b[0m\u001b[0mfunc\u001b[0m\u001b[0;34m)\u001b[0m\u001b[0;34m\u001b[0m\u001b[0m\n\u001b[0m\u001b[1;32m    112\u001b[0m         \u001b[0;32mif\u001b[0m \u001b[0mcallback\u001b[0m\u001b[0;34m:\u001b[0m\u001b[0;34m\u001b[0m\u001b[0m\n\u001b[1;32m    113\u001b[0m             \u001b[0mcallback\u001b[0m\u001b[0;34m(\u001b[0m\u001b[0mresult\u001b[0m\u001b[0;34m)\u001b[0m\u001b[0;34m\u001b[0m\u001b[0m\n",
      "\u001b[0;32m~/anaconda3/lib/python3.6/site-packages/sklearn/externals/joblib/_parallel_backends.py\u001b[0m in \u001b[0;36m__init__\u001b[0;34m(self, batch)\u001b[0m\n\u001b[1;32m    330\u001b[0m         \u001b[0;31m# Don't delay the application, to avoid keeping the input\u001b[0m\u001b[0;34m\u001b[0m\u001b[0;34m\u001b[0m\u001b[0m\n\u001b[1;32m    331\u001b[0m         \u001b[0;31m# arguments in memory\u001b[0m\u001b[0;34m\u001b[0m\u001b[0;34m\u001b[0m\u001b[0m\n\u001b[0;32m--> 332\u001b[0;31m         \u001b[0mself\u001b[0m\u001b[0;34m.\u001b[0m\u001b[0mresults\u001b[0m \u001b[0;34m=\u001b[0m \u001b[0mbatch\u001b[0m\u001b[0;34m(\u001b[0m\u001b[0;34m)\u001b[0m\u001b[0;34m\u001b[0m\u001b[0m\n\u001b[0m\u001b[1;32m    333\u001b[0m \u001b[0;34m\u001b[0m\u001b[0m\n\u001b[1;32m    334\u001b[0m     \u001b[0;32mdef\u001b[0m \u001b[0mget\u001b[0m\u001b[0;34m(\u001b[0m\u001b[0mself\u001b[0m\u001b[0;34m)\u001b[0m\u001b[0;34m:\u001b[0m\u001b[0;34m\u001b[0m\u001b[0m\n",
      "\u001b[0;32m~/anaconda3/lib/python3.6/site-packages/sklearn/externals/joblib/parallel.py\u001b[0m in \u001b[0;36m__call__\u001b[0;34m(self)\u001b[0m\n\u001b[1;32m    129\u001b[0m \u001b[0;34m\u001b[0m\u001b[0m\n\u001b[1;32m    130\u001b[0m     \u001b[0;32mdef\u001b[0m \u001b[0m__call__\u001b[0m\u001b[0;34m(\u001b[0m\u001b[0mself\u001b[0m\u001b[0;34m)\u001b[0m\u001b[0;34m:\u001b[0m\u001b[0;34m\u001b[0m\u001b[0m\n\u001b[0;32m--> 131\u001b[0;31m         \u001b[0;32mreturn\u001b[0m \u001b[0;34m[\u001b[0m\u001b[0mfunc\u001b[0m\u001b[0;34m(\u001b[0m\u001b[0;34m*\u001b[0m\u001b[0margs\u001b[0m\u001b[0;34m,\u001b[0m \u001b[0;34m**\u001b[0m\u001b[0mkwargs\u001b[0m\u001b[0;34m)\u001b[0m \u001b[0;32mfor\u001b[0m \u001b[0mfunc\u001b[0m\u001b[0;34m,\u001b[0m \u001b[0margs\u001b[0m\u001b[0;34m,\u001b[0m \u001b[0mkwargs\u001b[0m \u001b[0;32min\u001b[0m \u001b[0mself\u001b[0m\u001b[0;34m.\u001b[0m\u001b[0mitems\u001b[0m\u001b[0;34m]\u001b[0m\u001b[0;34m\u001b[0m\u001b[0m\n\u001b[0m\u001b[1;32m    132\u001b[0m \u001b[0;34m\u001b[0m\u001b[0m\n\u001b[1;32m    133\u001b[0m     \u001b[0;32mdef\u001b[0m \u001b[0m__len__\u001b[0m\u001b[0;34m(\u001b[0m\u001b[0mself\u001b[0m\u001b[0;34m)\u001b[0m\u001b[0;34m:\u001b[0m\u001b[0;34m\u001b[0m\u001b[0m\n",
      "\u001b[0;32m~/anaconda3/lib/python3.6/site-packages/sklearn/externals/joblib/parallel.py\u001b[0m in \u001b[0;36m<listcomp>\u001b[0;34m(.0)\u001b[0m\n\u001b[1;32m    129\u001b[0m \u001b[0;34m\u001b[0m\u001b[0m\n\u001b[1;32m    130\u001b[0m     \u001b[0;32mdef\u001b[0m \u001b[0m__call__\u001b[0m\u001b[0;34m(\u001b[0m\u001b[0mself\u001b[0m\u001b[0;34m)\u001b[0m\u001b[0;34m:\u001b[0m\u001b[0;34m\u001b[0m\u001b[0m\n\u001b[0;32m--> 131\u001b[0;31m         \u001b[0;32mreturn\u001b[0m \u001b[0;34m[\u001b[0m\u001b[0mfunc\u001b[0m\u001b[0;34m(\u001b[0m\u001b[0;34m*\u001b[0m\u001b[0margs\u001b[0m\u001b[0;34m,\u001b[0m \u001b[0;34m**\u001b[0m\u001b[0mkwargs\u001b[0m\u001b[0;34m)\u001b[0m \u001b[0;32mfor\u001b[0m \u001b[0mfunc\u001b[0m\u001b[0;34m,\u001b[0m \u001b[0margs\u001b[0m\u001b[0;34m,\u001b[0m \u001b[0mkwargs\u001b[0m \u001b[0;32min\u001b[0m \u001b[0mself\u001b[0m\u001b[0;34m.\u001b[0m\u001b[0mitems\u001b[0m\u001b[0;34m]\u001b[0m\u001b[0;34m\u001b[0m\u001b[0m\n\u001b[0m\u001b[1;32m    132\u001b[0m \u001b[0;34m\u001b[0m\u001b[0m\n\u001b[1;32m    133\u001b[0m     \u001b[0;32mdef\u001b[0m \u001b[0m__len__\u001b[0m\u001b[0;34m(\u001b[0m\u001b[0mself\u001b[0m\u001b[0;34m)\u001b[0m\u001b[0;34m:\u001b[0m\u001b[0;34m\u001b[0m\u001b[0m\n",
      "\u001b[0;32m~/anaconda3/lib/python3.6/site-packages/sklearn/model_selection/_validation.py\u001b[0m in \u001b[0;36m_fit_and_score\u001b[0;34m(estimator, X, y, scorer, train, test, verbose, parameters, fit_params, return_train_score, return_parameters, return_n_test_samples, return_times, error_score)\u001b[0m\n\u001b[1;32m    456\u001b[0m             \u001b[0mestimator\u001b[0m\u001b[0;34m.\u001b[0m\u001b[0mfit\u001b[0m\u001b[0;34m(\u001b[0m\u001b[0mX_train\u001b[0m\u001b[0;34m,\u001b[0m \u001b[0;34m**\u001b[0m\u001b[0mfit_params\u001b[0m\u001b[0;34m)\u001b[0m\u001b[0;34m\u001b[0m\u001b[0m\n\u001b[1;32m    457\u001b[0m         \u001b[0;32melse\u001b[0m\u001b[0;34m:\u001b[0m\u001b[0;34m\u001b[0m\u001b[0m\n\u001b[0;32m--> 458\u001b[0;31m             \u001b[0mestimator\u001b[0m\u001b[0;34m.\u001b[0m\u001b[0mfit\u001b[0m\u001b[0;34m(\u001b[0m\u001b[0mX_train\u001b[0m\u001b[0;34m,\u001b[0m \u001b[0my_train\u001b[0m\u001b[0;34m,\u001b[0m \u001b[0;34m**\u001b[0m\u001b[0mfit_params\u001b[0m\u001b[0;34m)\u001b[0m\u001b[0;34m\u001b[0m\u001b[0m\n\u001b[0m\u001b[1;32m    459\u001b[0m \u001b[0;34m\u001b[0m\u001b[0m\n\u001b[1;32m    460\u001b[0m     \u001b[0;32mexcept\u001b[0m \u001b[0mException\u001b[0m \u001b[0;32mas\u001b[0m \u001b[0me\u001b[0m\u001b[0;34m:\u001b[0m\u001b[0;34m\u001b[0m\u001b[0m\n",
      "\u001b[0;32m~/anaconda3/lib/python3.6/site-packages/sklearn/pipeline.py\u001b[0m in \u001b[0;36mfit\u001b[0;34m(self, X, y, **fit_params)\u001b[0m\n\u001b[1;32m    248\u001b[0m         \u001b[0mXt\u001b[0m\u001b[0;34m,\u001b[0m \u001b[0mfit_params\u001b[0m \u001b[0;34m=\u001b[0m \u001b[0mself\u001b[0m\u001b[0;34m.\u001b[0m\u001b[0m_fit\u001b[0m\u001b[0;34m(\u001b[0m\u001b[0mX\u001b[0m\u001b[0;34m,\u001b[0m \u001b[0my\u001b[0m\u001b[0;34m,\u001b[0m \u001b[0;34m**\u001b[0m\u001b[0mfit_params\u001b[0m\u001b[0;34m)\u001b[0m\u001b[0;34m\u001b[0m\u001b[0m\n\u001b[1;32m    249\u001b[0m         \u001b[0;32mif\u001b[0m \u001b[0mself\u001b[0m\u001b[0;34m.\u001b[0m\u001b[0m_final_estimator\u001b[0m \u001b[0;32mis\u001b[0m \u001b[0;32mnot\u001b[0m \u001b[0;32mNone\u001b[0m\u001b[0;34m:\u001b[0m\u001b[0;34m\u001b[0m\u001b[0m\n\u001b[0;32m--> 250\u001b[0;31m             \u001b[0mself\u001b[0m\u001b[0;34m.\u001b[0m\u001b[0m_final_estimator\u001b[0m\u001b[0;34m.\u001b[0m\u001b[0mfit\u001b[0m\u001b[0;34m(\u001b[0m\u001b[0mXt\u001b[0m\u001b[0;34m,\u001b[0m \u001b[0my\u001b[0m\u001b[0;34m,\u001b[0m \u001b[0;34m**\u001b[0m\u001b[0mfit_params\u001b[0m\u001b[0;34m)\u001b[0m\u001b[0;34m\u001b[0m\u001b[0m\n\u001b[0m\u001b[1;32m    251\u001b[0m         \u001b[0;32mreturn\u001b[0m \u001b[0mself\u001b[0m\u001b[0;34m\u001b[0m\u001b[0m\n\u001b[1;32m    252\u001b[0m \u001b[0;34m\u001b[0m\u001b[0m\n",
      "\u001b[0;32m~/anaconda3/lib/python3.6/site-packages/sklearn/svm/base.py\u001b[0m in \u001b[0;36mfit\u001b[0;34m(self, X, y, sample_weight)\u001b[0m\n\u001b[1;32m    147\u001b[0m         \u001b[0mself\u001b[0m\u001b[0;34m.\u001b[0m\u001b[0m_sparse\u001b[0m \u001b[0;34m=\u001b[0m \u001b[0msparse\u001b[0m \u001b[0;32mand\u001b[0m \u001b[0;32mnot\u001b[0m \u001b[0mcallable\u001b[0m\u001b[0;34m(\u001b[0m\u001b[0mself\u001b[0m\u001b[0;34m.\u001b[0m\u001b[0mkernel\u001b[0m\u001b[0;34m)\u001b[0m\u001b[0;34m\u001b[0m\u001b[0m\n\u001b[1;32m    148\u001b[0m \u001b[0;34m\u001b[0m\u001b[0m\n\u001b[0;32m--> 149\u001b[0;31m         \u001b[0mX\u001b[0m\u001b[0;34m,\u001b[0m \u001b[0my\u001b[0m \u001b[0;34m=\u001b[0m \u001b[0mcheck_X_y\u001b[0m\u001b[0;34m(\u001b[0m\u001b[0mX\u001b[0m\u001b[0;34m,\u001b[0m \u001b[0my\u001b[0m\u001b[0;34m,\u001b[0m \u001b[0mdtype\u001b[0m\u001b[0;34m=\u001b[0m\u001b[0mnp\u001b[0m\u001b[0;34m.\u001b[0m\u001b[0mfloat64\u001b[0m\u001b[0;34m,\u001b[0m \u001b[0morder\u001b[0m\u001b[0;34m=\u001b[0m\u001b[0;34m'C'\u001b[0m\u001b[0;34m,\u001b[0m \u001b[0maccept_sparse\u001b[0m\u001b[0;34m=\u001b[0m\u001b[0;34m'csr'\u001b[0m\u001b[0;34m)\u001b[0m\u001b[0;34m\u001b[0m\u001b[0m\n\u001b[0m\u001b[1;32m    150\u001b[0m         \u001b[0my\u001b[0m \u001b[0;34m=\u001b[0m \u001b[0mself\u001b[0m\u001b[0;34m.\u001b[0m\u001b[0m_validate_targets\u001b[0m\u001b[0;34m(\u001b[0m\u001b[0my\u001b[0m\u001b[0;34m)\u001b[0m\u001b[0;34m\u001b[0m\u001b[0m\n\u001b[1;32m    151\u001b[0m \u001b[0;34m\u001b[0m\u001b[0m\n",
      "\u001b[0;32m~/anaconda3/lib/python3.6/site-packages/sklearn/utils/validation.py\u001b[0m in \u001b[0;36mcheck_X_y\u001b[0;34m(X, y, accept_sparse, dtype, order, copy, force_all_finite, ensure_2d, allow_nd, multi_output, ensure_min_samples, ensure_min_features, y_numeric, warn_on_dtype, estimator)\u001b[0m\n\u001b[1;32m    571\u001b[0m     X = check_array(X, accept_sparse, dtype, order, copy, force_all_finite,\n\u001b[1;32m    572\u001b[0m                     \u001b[0mensure_2d\u001b[0m\u001b[0;34m,\u001b[0m \u001b[0mallow_nd\u001b[0m\u001b[0;34m,\u001b[0m \u001b[0mensure_min_samples\u001b[0m\u001b[0;34m,\u001b[0m\u001b[0;34m\u001b[0m\u001b[0m\n\u001b[0;32m--> 573\u001b[0;31m                     ensure_min_features, warn_on_dtype, estimator)\n\u001b[0m\u001b[1;32m    574\u001b[0m     \u001b[0;32mif\u001b[0m \u001b[0mmulti_output\u001b[0m\u001b[0;34m:\u001b[0m\u001b[0;34m\u001b[0m\u001b[0m\n\u001b[1;32m    575\u001b[0m         y = check_array(y, 'csr', force_all_finite=True, ensure_2d=False,\n",
      "\u001b[0;32m~/anaconda3/lib/python3.6/site-packages/sklearn/utils/validation.py\u001b[0m in \u001b[0;36mcheck_array\u001b[0;34m(array, accept_sparse, dtype, order, copy, force_all_finite, ensure_2d, allow_nd, ensure_min_samples, ensure_min_features, warn_on_dtype, estimator)\u001b[0m\n\u001b[1;32m    460\u001b[0m                              \u001b[0;34m\" minimum of %d is required%s.\"\u001b[0m\u001b[0;34m\u001b[0m\u001b[0m\n\u001b[1;32m    461\u001b[0m                              % (n_samples, shape_repr, ensure_min_samples,\n\u001b[0;32m--> 462\u001b[0;31m                                 context))\n\u001b[0m\u001b[1;32m    463\u001b[0m \u001b[0;34m\u001b[0m\u001b[0m\n\u001b[1;32m    464\u001b[0m     \u001b[0;32mif\u001b[0m \u001b[0mensure_min_features\u001b[0m \u001b[0;34m>\u001b[0m \u001b[0;36m0\u001b[0m \u001b[0;32mand\u001b[0m \u001b[0marray\u001b[0m\u001b[0;34m.\u001b[0m\u001b[0mndim\u001b[0m \u001b[0;34m==\u001b[0m \u001b[0;36m2\u001b[0m\u001b[0;34m:\u001b[0m\u001b[0;34m\u001b[0m\u001b[0m\n",
      "\u001b[0;31mValueError\u001b[0m: Found array with 0 sample(s) (shape=(0, 3)) while a minimum of 1 is required."
     ]
    }
   ],
   "source": [
    "from sklearn.svm import SVR\n",
    "from sklearn.pipeline import Pipeline\n",
    "from sklearn.model_selection import GridSearchCV\n",
    "\n",
    "\n",
    "regressor = SVR()\n",
    "\n",
    "pipeline_r = Pipeline([('regressor', regressor)])\n",
    "param_grid = [\n",
    "  {'regressor__C': [0.01, 0.1, 1, 10, 100, 1000], 'regressor__kernel': ['linear']},\n",
    "  {'regressor__C': [0.01, 0.1, 1, 10, 100, 1000], 'regressor__gamma': [0.001, 0.0001], 'regressor__kernel': ['rbf']},\n",
    " ]\n",
    "grid_search = GridSearchCV(pipeline_r, param_grid=param_grid, cv=myCViterator)\n",
    "\n",
    "%time grid_search.fit(X,y)"
   ]
  },
  {
   "cell_type": "markdown",
   "metadata": {
    "collapsed": true
   },
   "source": [
    "## French house insurance prediction (MAPE metric)"
   ]
  },
  {
   "cell_type": "markdown",
   "metadata": {},
   "source": [
    "**1.** Take a look carefuly at train and test dataset. Note for you what is the difference in them and how they are dependent. You may use any tool you like, any EDA you want. Decribe your validation and reason for your choice in google form.\n",
    "\n",
    "**2.** \n",
    "+ Implement your validation. \n",
    "+ Generate additional features. \n",
    "+ Build a model you like/you can. \n",
    "+ Wait for training your model. If it takes too much time, listen to https://www.youtube.com/watch?v=XWkGL4eZR3E\n",
    "+ Submit your scores on validation and test to google form. Use MAPE metric for scoring. \n",
    "+ Ланфрен ланфра лантатита"
   ]
  },
  {
   "cell_type": "code",
   "execution_count": 82,
   "metadata": {
    "collapsed": true
   },
   "outputs": [],
   "source": [
    "train = pd.read_csv('../data/train_french.csv')\n",
    "test = pd.read_csv('../data/test_french.csv')"
   ]
  },
  {
   "cell_type": "code",
   "execution_count": 88,
   "metadata": {},
   "outputs": [
    {
     "data": {
      "text/plain": [
       "((200000, 29), (75968, 29))"
      ]
     },
     "execution_count": 88,
     "metadata": {},
     "output_type": "execute_result"
    }
   ],
   "source": [
    "train.shape, test.shape"
   ]
  },
  {
   "cell_type": "code",
   "execution_count": 83,
   "metadata": {},
   "outputs": [
    {
     "data": {
      "text/html": [
       "<div>\n",
       "<style>\n",
       "    .dataframe thead tr:only-child th {\n",
       "        text-align: right;\n",
       "    }\n",
       "\n",
       "    .dataframe thead th {\n",
       "        text-align: left;\n",
       "    }\n",
       "\n",
       "    .dataframe tbody tr th {\n",
       "        vertical-align: top;\n",
       "    }\n",
       "</style>\n",
       "<table border=\"1\" class=\"dataframe\">\n",
       "  <thead>\n",
       "    <tr style=\"text-align: right;\">\n",
       "      <th></th>\n",
       "      <th>code_postal</th>\n",
       "      <th>nb_pieces</th>\n",
       "      <th>veranda</th>\n",
       "      <th>biens_nomades</th>\n",
       "      <th>sit_fam</th>\n",
       "      <th>profession</th>\n",
       "      <th>nature_lri</th>\n",
       "      <th>societe</th>\n",
       "      <th>domaine_activite</th>\n",
       "      <th>niv_urbanisation</th>\n",
       "      <th>...</th>\n",
       "      <th>var3</th>\n",
       "      <th>var4</th>\n",
       "      <th>var5</th>\n",
       "      <th>var6</th>\n",
       "      <th>var7</th>\n",
       "      <th>var8</th>\n",
       "      <th>var9</th>\n",
       "      <th>var10</th>\n",
       "      <th>var11</th>\n",
       "      <th>prime_tot_ttc</th>\n",
       "    </tr>\n",
       "  </thead>\n",
       "  <tbody>\n",
       "    <tr>\n",
       "      <th>0</th>\n",
       "      <td>62510</td>\n",
       "      <td>1</td>\n",
       "      <td>NON</td>\n",
       "      <td>500</td>\n",
       "      <td>Indivividu</td>\n",
       "      <td>agent; employe</td>\n",
       "      <td>Sans information</td>\n",
       "      <td>2</td>\n",
       "      <td>34</td>\n",
       "      <td>A</td>\n",
       "      <td>...</td>\n",
       "      <td>0</td>\n",
       "      <td>194</td>\n",
       "      <td>49</td>\n",
       "      <td>0</td>\n",
       "      <td>0</td>\n",
       "      <td>1</td>\n",
       "      <td>NON</td>\n",
       "      <td>30</td>\n",
       "      <td>2</td>\n",
       "      <td>67.68</td>\n",
       "    </tr>\n",
       "    <tr>\n",
       "      <th>1</th>\n",
       "      <td>83126</td>\n",
       "      <td>2</td>\n",
       "      <td>NON</td>\n",
       "      <td>500</td>\n",
       "      <td>Indivividu</td>\n",
       "      <td>cadre; ingenieur</td>\n",
       "      <td>Sans information</td>\n",
       "      <td>2</td>\n",
       "      <td>37</td>\n",
       "      <td>A</td>\n",
       "      <td>...</td>\n",
       "      <td>0</td>\n",
       "      <td>0</td>\n",
       "      <td>100</td>\n",
       "      <td>0</td>\n",
       "      <td>0</td>\n",
       "      <td>5</td>\n",
       "      <td>NON</td>\n",
       "      <td>12</td>\n",
       "      <td>1</td>\n",
       "      <td>120.60</td>\n",
       "    </tr>\n",
       "    <tr>\n",
       "      <th>2</th>\n",
       "      <td>68224</td>\n",
       "      <td>3</td>\n",
       "      <td>NON</td>\n",
       "      <td>500</td>\n",
       "      <td>Indivividu</td>\n",
       "      <td>enseignant; formateur; chercheur</td>\n",
       "      <td>Maison</td>\n",
       "      <td>1</td>\n",
       "      <td>1</td>\n",
       "      <td>E</td>\n",
       "      <td>...</td>\n",
       "      <td>1</td>\n",
       "      <td>98</td>\n",
       "      <td>100</td>\n",
       "      <td>0</td>\n",
       "      <td>0</td>\n",
       "      <td>5</td>\n",
       "      <td>NON</td>\n",
       "      <td>30</td>\n",
       "      <td>2</td>\n",
       "      <td>100.62</td>\n",
       "    </tr>\n",
       "    <tr>\n",
       "      <th>3</th>\n",
       "      <td>30263</td>\n",
       "      <td>3</td>\n",
       "      <td>NON</td>\n",
       "      <td>500</td>\n",
       "      <td>Famille</td>\n",
       "      <td>agent; employe</td>\n",
       "      <td>Maison</td>\n",
       "      <td>2</td>\n",
       "      <td>34</td>\n",
       "      <td>A</td>\n",
       "      <td>...</td>\n",
       "      <td>0</td>\n",
       "      <td>151</td>\n",
       "      <td>38</td>\n",
       "      <td>0</td>\n",
       "      <td>0</td>\n",
       "      <td>1</td>\n",
       "      <td>NON</td>\n",
       "      <td>15</td>\n",
       "      <td>1</td>\n",
       "      <td>58.73</td>\n",
       "    </tr>\n",
       "    <tr>\n",
       "      <th>4</th>\n",
       "      <td>72231</td>\n",
       "      <td>2</td>\n",
       "      <td>NON</td>\n",
       "      <td>500</td>\n",
       "      <td>Famille</td>\n",
       "      <td>educateur; animateur; moniteur</td>\n",
       "      <td>Appartement</td>\n",
       "      <td>1</td>\n",
       "      <td>19</td>\n",
       "      <td>D</td>\n",
       "      <td>...</td>\n",
       "      <td>0</td>\n",
       "      <td>39</td>\n",
       "      <td>100</td>\n",
       "      <td>0</td>\n",
       "      <td>0</td>\n",
       "      <td>1</td>\n",
       "      <td>NON</td>\n",
       "      <td>0</td>\n",
       "      <td>2</td>\n",
       "      <td>132.65</td>\n",
       "    </tr>\n",
       "  </tbody>\n",
       "</table>\n",
       "<p>5 rows × 29 columns</p>\n",
       "</div>"
      ],
      "text/plain": [
       "   code_postal  nb_pieces veranda  biens_nomades     sit_fam  \\\n",
       "0        62510          1     NON            500  Indivividu   \n",
       "1        83126          2     NON            500  Indivividu   \n",
       "2        68224          3     NON            500  Indivividu   \n",
       "3        30263          3     NON            500     Famille   \n",
       "4        72231          2     NON            500     Famille   \n",
       "\n",
       "                         profession        nature_lri  societe  \\\n",
       "0                    agent; employe  Sans information        2   \n",
       "1                  cadre; ingenieur  Sans information        2   \n",
       "2  enseignant; formateur; chercheur            Maison        1   \n",
       "3                    agent; employe            Maison        2   \n",
       "4    educateur; animateur; moniteur       Appartement        1   \n",
       "\n",
       "   domaine_activite niv_urbanisation      ...        var3  var4  var5  var6  \\\n",
       "0                34                A      ...           0   194    49     0   \n",
       "1                37                A      ...           0     0   100     0   \n",
       "2                 1                E      ...           1    98   100     0   \n",
       "3                34                A      ...           0   151    38     0   \n",
       "4                19                D      ...           0    39   100     0   \n",
       "\n",
       "   var7  var8  var9  var10  var11  prime_tot_ttc  \n",
       "0     0     1   NON     30      2          67.68  \n",
       "1     0     5   NON     12      1         120.60  \n",
       "2     0     5   NON     30      2         100.62  \n",
       "3     0     1   NON     15      1          58.73  \n",
       "4     0     1   NON      0      2         132.65  \n",
       "\n",
       "[5 rows x 29 columns]"
      ]
     },
     "execution_count": 83,
     "metadata": {},
     "output_type": "execute_result"
    }
   ],
   "source": [
    "train.head()"
   ]
  },
  {
   "cell_type": "code",
   "execution_count": 95,
   "metadata": {},
   "outputs": [
    {
     "data": {
      "text/plain": [
       "Appartement                        110302\n",
       "Maison                              68488\n",
       "Sans information                    19262\n",
       "R�sidence de retraite                1145\n",
       "Mobil home                            799\n",
       "Local utilitaire distinct (LUD)         4\n",
       "Name: nature_lri, dtype: int64"
      ]
     },
     "execution_count": 95,
     "metadata": {},
     "output_type": "execute_result"
    }
   ],
   "source": [
    "train.nature_lri.value_counts()"
   ]
  },
  {
   "cell_type": "code",
   "execution_count": 91,
   "metadata": {},
   "outputs": [
    {
     "data": {
      "text/plain": [
       "enseignant; formateur; chercheur                             72666\n",
       "agent; employe                                               54004\n",
       "cadre; ingenieur                                             23711\n",
       "educateur; animateur; moniteur                               10068\n",
       "technicien                                                    9718\n",
       "demandeur d'emploi                                            4859\n",
       "homme ou femme au foyer                                       4094\n",
       "profession liberale                                           3997\n",
       "etudiant                                                      3592\n",
       "profession de l'information des arts et des spectacles        3497\n",
       "ouvrier                                                       3139\n",
       "profession intermediaire de la sante et du travail social     2254\n",
       "commercant                                                    1205\n",
       "contremaitre; agent de maitrise                               1023\n",
       "chef d'entreprise                                              931\n",
       "artisan                                                        653\n",
       "absence d'information                                          365\n",
       "agriculteur exploitant                                         224\n",
       "Name: profession, dtype: int64"
      ]
     },
     "execution_count": 91,
     "metadata": {},
     "output_type": "execute_result"
    }
   ],
   "source": [
    "train.profession.value_counts()"
   ]
  },
  {
   "cell_type": "code",
   "execution_count": 85,
   "metadata": {},
   "outputs": [
    {
     "data": {
      "text/html": [
       "<div>\n",
       "<style>\n",
       "    .dataframe thead tr:only-child th {\n",
       "        text-align: right;\n",
       "    }\n",
       "\n",
       "    .dataframe thead th {\n",
       "        text-align: left;\n",
       "    }\n",
       "\n",
       "    .dataframe tbody tr th {\n",
       "        vertical-align: top;\n",
       "    }\n",
       "</style>\n",
       "<table border=\"1\" class=\"dataframe\">\n",
       "  <thead>\n",
       "    <tr style=\"text-align: right;\">\n",
       "      <th></th>\n",
       "      <th>code_postal</th>\n",
       "      <th>nb_pieces</th>\n",
       "      <th>veranda</th>\n",
       "      <th>biens_nomades</th>\n",
       "      <th>sit_fam</th>\n",
       "      <th>profession</th>\n",
       "      <th>nature_lri</th>\n",
       "      <th>societe</th>\n",
       "      <th>domaine_activite</th>\n",
       "      <th>niv_urbanisation</th>\n",
       "      <th>...</th>\n",
       "      <th>var3</th>\n",
       "      <th>var4</th>\n",
       "      <th>var5</th>\n",
       "      <th>var6</th>\n",
       "      <th>var7</th>\n",
       "      <th>var8</th>\n",
       "      <th>var9</th>\n",
       "      <th>var10</th>\n",
       "      <th>var11</th>\n",
       "      <th>prime_tot_ttc</th>\n",
       "    </tr>\n",
       "  </thead>\n",
       "  <tbody>\n",
       "    <tr>\n",
       "      <th>0</th>\n",
       "      <td>6029</td>\n",
       "      <td>5</td>\n",
       "      <td>OUI</td>\n",
       "      <td>500</td>\n",
       "      <td>Famille</td>\n",
       "      <td>agent; employe</td>\n",
       "      <td>Maison</td>\n",
       "      <td>1</td>\n",
       "      <td>7</td>\n",
       "      <td>C</td>\n",
       "      <td>...</td>\n",
       "      <td>0</td>\n",
       "      <td>164</td>\n",
       "      <td>41</td>\n",
       "      <td>0</td>\n",
       "      <td>0</td>\n",
       "      <td>1</td>\n",
       "      <td>NON</td>\n",
       "      <td>30</td>\n",
       "      <td>1</td>\n",
       "      <td>107.94</td>\n",
       "    </tr>\n",
       "    <tr>\n",
       "      <th>1</th>\n",
       "      <td>62128</td>\n",
       "      <td>2</td>\n",
       "      <td>NON</td>\n",
       "      <td>0</td>\n",
       "      <td>Famille</td>\n",
       "      <td>enseignant; formateur; chercheur</td>\n",
       "      <td>Appartement</td>\n",
       "      <td>1</td>\n",
       "      <td>1</td>\n",
       "      <td>D</td>\n",
       "      <td>...</td>\n",
       "      <td>1</td>\n",
       "      <td>85</td>\n",
       "      <td>100</td>\n",
       "      <td>0</td>\n",
       "      <td>0</td>\n",
       "      <td>1</td>\n",
       "      <td>NON</td>\n",
       "      <td>30</td>\n",
       "      <td>2</td>\n",
       "      <td>80.41</td>\n",
       "    </tr>\n",
       "    <tr>\n",
       "      <th>2</th>\n",
       "      <td>81065</td>\n",
       "      <td>4</td>\n",
       "      <td>NON</td>\n",
       "      <td>1000</td>\n",
       "      <td>Indivividu</td>\n",
       "      <td>homme ou femme au foyer</td>\n",
       "      <td>Sans information</td>\n",
       "      <td>2</td>\n",
       "      <td>99</td>\n",
       "      <td>~</td>\n",
       "      <td>...</td>\n",
       "      <td>0</td>\n",
       "      <td>94</td>\n",
       "      <td>100</td>\n",
       "      <td>0</td>\n",
       "      <td>0</td>\n",
       "      <td>1</td>\n",
       "      <td>NON</td>\n",
       "      <td>30</td>\n",
       "      <td>2</td>\n",
       "      <td>142.12</td>\n",
       "    </tr>\n",
       "    <tr>\n",
       "      <th>3</th>\n",
       "      <td>5023</td>\n",
       "      <td>3</td>\n",
       "      <td>NON</td>\n",
       "      <td>500</td>\n",
       "      <td>Indivividu</td>\n",
       "      <td>agent; employe</td>\n",
       "      <td>Maison</td>\n",
       "      <td>2</td>\n",
       "      <td>38</td>\n",
       "      <td>C</td>\n",
       "      <td>...</td>\n",
       "      <td>0</td>\n",
       "      <td>101</td>\n",
       "      <td>100</td>\n",
       "      <td>0</td>\n",
       "      <td>0</td>\n",
       "      <td>5</td>\n",
       "      <td>NON</td>\n",
       "      <td>30</td>\n",
       "      <td>2</td>\n",
       "      <td>76.55</td>\n",
       "    </tr>\n",
       "    <tr>\n",
       "      <th>4</th>\n",
       "      <td>62178</td>\n",
       "      <td>2</td>\n",
       "      <td>NON</td>\n",
       "      <td>500</td>\n",
       "      <td>Famille</td>\n",
       "      <td>enseignant; formateur; chercheur</td>\n",
       "      <td>Appartement</td>\n",
       "      <td>1</td>\n",
       "      <td>1</td>\n",
       "      <td>~</td>\n",
       "      <td>...</td>\n",
       "      <td>1</td>\n",
       "      <td>125</td>\n",
       "      <td>100</td>\n",
       "      <td>1</td>\n",
       "      <td>0</td>\n",
       "      <td>1</td>\n",
       "      <td>NON</td>\n",
       "      <td>0</td>\n",
       "      <td>2</td>\n",
       "      <td>150.45</td>\n",
       "    </tr>\n",
       "  </tbody>\n",
       "</table>\n",
       "<p>5 rows × 29 columns</p>\n",
       "</div>"
      ],
      "text/plain": [
       "   code_postal  nb_pieces veranda  biens_nomades     sit_fam  \\\n",
       "0         6029          5     OUI            500     Famille   \n",
       "1        62128          2     NON              0     Famille   \n",
       "2        81065          4     NON           1000  Indivividu   \n",
       "3         5023          3     NON            500  Indivividu   \n",
       "4        62178          2     NON            500     Famille   \n",
       "\n",
       "                         profession        nature_lri  societe  \\\n",
       "0                    agent; employe            Maison        1   \n",
       "1  enseignant; formateur; chercheur       Appartement        1   \n",
       "2           homme ou femme au foyer  Sans information        2   \n",
       "3                    agent; employe            Maison        2   \n",
       "4  enseignant; formateur; chercheur       Appartement        1   \n",
       "\n",
       "   domaine_activite niv_urbanisation      ...        var3  var4  var5  var6  \\\n",
       "0                 7                C      ...           0   164    41     0   \n",
       "1                 1                D      ...           1    85   100     0   \n",
       "2                99                ~      ...           0    94   100     0   \n",
       "3                38                C      ...           0   101   100     0   \n",
       "4                 1                ~      ...           1   125   100     1   \n",
       "\n",
       "   var7  var8  var9  var10  var11  prime_tot_ttc  \n",
       "0     0     1   NON     30      1         107.94  \n",
       "1     0     1   NON     30      2          80.41  \n",
       "2     0     1   NON     30      2         142.12  \n",
       "3     0     5   NON     30      2          76.55  \n",
       "4     0     1   NON      0      2         150.45  \n",
       "\n",
       "[5 rows x 29 columns]"
      ]
     },
     "execution_count": 85,
     "metadata": {},
     "output_type": "execute_result"
    }
   ],
   "source": [
    "test.head()"
   ]
  },
  {
   "cell_type": "code",
   "execution_count": 84,
   "metadata": {},
   "outputs": [
    {
     "data": {
      "text/html": [
       "<div>\n",
       "<style>\n",
       "    .dataframe thead tr:only-child th {\n",
       "        text-align: right;\n",
       "    }\n",
       "\n",
       "    .dataframe thead th {\n",
       "        text-align: left;\n",
       "    }\n",
       "\n",
       "    .dataframe tbody tr th {\n",
       "        vertical-align: top;\n",
       "    }\n",
       "</style>\n",
       "<table border=\"1\" class=\"dataframe\">\n",
       "  <thead>\n",
       "    <tr style=\"text-align: right;\">\n",
       "      <th></th>\n",
       "      <th>code_postal</th>\n",
       "      <th>nb_pieces</th>\n",
       "      <th>veranda</th>\n",
       "      <th>biens_nomades</th>\n",
       "      <th>sit_fam</th>\n",
       "      <th>profession</th>\n",
       "      <th>nature_lri</th>\n",
       "      <th>societe</th>\n",
       "      <th>domaine_activite</th>\n",
       "      <th>niv_urbanisation</th>\n",
       "      <th>...</th>\n",
       "      <th>var3</th>\n",
       "      <th>var4</th>\n",
       "      <th>var5</th>\n",
       "      <th>var6</th>\n",
       "      <th>var7</th>\n",
       "      <th>var8</th>\n",
       "      <th>var9</th>\n",
       "      <th>var10</th>\n",
       "      <th>var11</th>\n",
       "      <th>prime_tot_ttc</th>\n",
       "    </tr>\n",
       "  </thead>\n",
       "  <tbody>\n",
       "    <tr>\n",
       "      <th>199995</th>\n",
       "      <td>50129</td>\n",
       "      <td>3</td>\n",
       "      <td>NON</td>\n",
       "      <td>0</td>\n",
       "      <td>Famille</td>\n",
       "      <td>technicien</td>\n",
       "      <td>Sans information</td>\n",
       "      <td>2</td>\n",
       "      <td>0</td>\n",
       "      <td>C</td>\n",
       "      <td>...</td>\n",
       "      <td>0</td>\n",
       "      <td>77</td>\n",
       "      <td>100</td>\n",
       "      <td>0</td>\n",
       "      <td>0</td>\n",
       "      <td>1</td>\n",
       "      <td>NON</td>\n",
       "      <td>12</td>\n",
       "      <td>2</td>\n",
       "      <td>144.54</td>\n",
       "    </tr>\n",
       "    <tr>\n",
       "      <th>199996</th>\n",
       "      <td>15014</td>\n",
       "      <td>3</td>\n",
       "      <td>NON</td>\n",
       "      <td>500</td>\n",
       "      <td>Indivividu</td>\n",
       "      <td>cadre; ingenieur</td>\n",
       "      <td>Appartement</td>\n",
       "      <td>2</td>\n",
       "      <td>41</td>\n",
       "      <td>A</td>\n",
       "      <td>...</td>\n",
       "      <td>0</td>\n",
       "      <td>112</td>\n",
       "      <td>100</td>\n",
       "      <td>0</td>\n",
       "      <td>0</td>\n",
       "      <td>1</td>\n",
       "      <td>NON</td>\n",
       "      <td>11</td>\n",
       "      <td>2</td>\n",
       "      <td>76.29</td>\n",
       "    </tr>\n",
       "    <tr>\n",
       "      <th>199997</th>\n",
       "      <td>94017</td>\n",
       "      <td>3</td>\n",
       "      <td>NON</td>\n",
       "      <td>1000</td>\n",
       "      <td>Famille</td>\n",
       "      <td>enseignant; formateur; chercheur</td>\n",
       "      <td>Maison</td>\n",
       "      <td>1</td>\n",
       "      <td>2</td>\n",
       "      <td>B</td>\n",
       "      <td>...</td>\n",
       "      <td>1</td>\n",
       "      <td>110</td>\n",
       "      <td>100</td>\n",
       "      <td>1</td>\n",
       "      <td>0</td>\n",
       "      <td>1</td>\n",
       "      <td>NON</td>\n",
       "      <td>30</td>\n",
       "      <td>1</td>\n",
       "      <td>156.20</td>\n",
       "    </tr>\n",
       "    <tr>\n",
       "      <th>199998</th>\n",
       "      <td>83924</td>\n",
       "      <td>2</td>\n",
       "      <td>NON</td>\n",
       "      <td>500</td>\n",
       "      <td>Indivividu</td>\n",
       "      <td>enseignant; formateur; chercheur</td>\n",
       "      <td>Appartement</td>\n",
       "      <td>1</td>\n",
       "      <td>1</td>\n",
       "      <td>A</td>\n",
       "      <td>...</td>\n",
       "      <td>0</td>\n",
       "      <td>99</td>\n",
       "      <td>100</td>\n",
       "      <td>1</td>\n",
       "      <td>0</td>\n",
       "      <td>1</td>\n",
       "      <td>NON</td>\n",
       "      <td>30</td>\n",
       "      <td>2</td>\n",
       "      <td>63.35</td>\n",
       "    </tr>\n",
       "    <tr>\n",
       "      <th>199999</th>\n",
       "      <td>62427</td>\n",
       "      <td>1</td>\n",
       "      <td>NON</td>\n",
       "      <td>1000</td>\n",
       "      <td>Famille</td>\n",
       "      <td>profession liberale</td>\n",
       "      <td>Appartement</td>\n",
       "      <td>2</td>\n",
       "      <td>41</td>\n",
       "      <td>A</td>\n",
       "      <td>...</td>\n",
       "      <td>0</td>\n",
       "      <td>79</td>\n",
       "      <td>100</td>\n",
       "      <td>0</td>\n",
       "      <td>0</td>\n",
       "      <td>1</td>\n",
       "      <td>NON</td>\n",
       "      <td>30</td>\n",
       "      <td>1</td>\n",
       "      <td>146.68</td>\n",
       "    </tr>\n",
       "  </tbody>\n",
       "</table>\n",
       "<p>5 rows × 29 columns</p>\n",
       "</div>"
      ],
      "text/plain": [
       "        code_postal  nb_pieces veranda  biens_nomades     sit_fam  \\\n",
       "199995        50129          3     NON              0     Famille   \n",
       "199996        15014          3     NON            500  Indivividu   \n",
       "199997        94017          3     NON           1000     Famille   \n",
       "199998        83924          2     NON            500  Indivividu   \n",
       "199999        62427          1     NON           1000     Famille   \n",
       "\n",
       "                              profession        nature_lri  societe  \\\n",
       "199995                        technicien  Sans information        2   \n",
       "199996                  cadre; ingenieur       Appartement        2   \n",
       "199997  enseignant; formateur; chercheur            Maison        1   \n",
       "199998  enseignant; formateur; chercheur       Appartement        1   \n",
       "199999               profession liberale       Appartement        2   \n",
       "\n",
       "        domaine_activite niv_urbanisation      ...        var3  var4  var5  \\\n",
       "199995                 0                C      ...           0    77   100   \n",
       "199996                41                A      ...           0   112   100   \n",
       "199997                 2                B      ...           1   110   100   \n",
       "199998                 1                A      ...           0    99   100   \n",
       "199999                41                A      ...           0    79   100   \n",
       "\n",
       "        var6  var7  var8  var9  var10  var11  prime_tot_ttc  \n",
       "199995     0     0     1   NON     12      2         144.54  \n",
       "199996     0     0     1   NON     11      2          76.29  \n",
       "199997     1     0     1   NON     30      1         156.20  \n",
       "199998     1     0     1   NON     30      2          63.35  \n",
       "199999     0     0     1   NON     30      1         146.68  \n",
       "\n",
       "[5 rows x 29 columns]"
      ]
     },
     "execution_count": 84,
     "metadata": {},
     "output_type": "execute_result"
    }
   ],
   "source": [
    "train.tail()"
   ]
  },
  {
   "cell_type": "code",
   "execution_count": 87,
   "metadata": {},
   "outputs": [
    {
     "data": {
      "text/html": [
       "<div>\n",
       "<style>\n",
       "    .dataframe thead tr:only-child th {\n",
       "        text-align: right;\n",
       "    }\n",
       "\n",
       "    .dataframe thead th {\n",
       "        text-align: left;\n",
       "    }\n",
       "\n",
       "    .dataframe tbody tr th {\n",
       "        vertical-align: top;\n",
       "    }\n",
       "</style>\n",
       "<table border=\"1\" class=\"dataframe\">\n",
       "  <thead>\n",
       "    <tr style=\"text-align: right;\">\n",
       "      <th></th>\n",
       "      <th>code_postal</th>\n",
       "      <th>nb_pieces</th>\n",
       "      <th>veranda</th>\n",
       "      <th>biens_nomades</th>\n",
       "      <th>sit_fam</th>\n",
       "      <th>profession</th>\n",
       "      <th>nature_lri</th>\n",
       "      <th>societe</th>\n",
       "      <th>domaine_activite</th>\n",
       "      <th>niv_urbanisation</th>\n",
       "      <th>...</th>\n",
       "      <th>var3</th>\n",
       "      <th>var4</th>\n",
       "      <th>var5</th>\n",
       "      <th>var6</th>\n",
       "      <th>var7</th>\n",
       "      <th>var8</th>\n",
       "      <th>var9</th>\n",
       "      <th>var10</th>\n",
       "      <th>var11</th>\n",
       "      <th>prime_tot_ttc</th>\n",
       "    </tr>\n",
       "  </thead>\n",
       "  <tbody>\n",
       "    <tr>\n",
       "      <th>75963</th>\n",
       "      <td>91215</td>\n",
       "      <td>6</td>\n",
       "      <td>OUI</td>\n",
       "      <td>1000</td>\n",
       "      <td>Famille</td>\n",
       "      <td>enseignant; formateur; chercheur</td>\n",
       "      <td>Maison</td>\n",
       "      <td>1</td>\n",
       "      <td>2</td>\n",
       "      <td>C</td>\n",
       "      <td>...</td>\n",
       "      <td>1</td>\n",
       "      <td>156</td>\n",
       "      <td>39</td>\n",
       "      <td>1</td>\n",
       "      <td>1</td>\n",
       "      <td>1</td>\n",
       "      <td>NON</td>\n",
       "      <td>30</td>\n",
       "      <td>1</td>\n",
       "      <td>128.59</td>\n",
       "    </tr>\n",
       "    <tr>\n",
       "      <th>75964</th>\n",
       "      <td>58083</td>\n",
       "      <td>6</td>\n",
       "      <td>OUI</td>\n",
       "      <td>1000</td>\n",
       "      <td>Famille</td>\n",
       "      <td>enseignant; formateur; chercheur</td>\n",
       "      <td>Maison</td>\n",
       "      <td>1</td>\n",
       "      <td>1</td>\n",
       "      <td>E</td>\n",
       "      <td>...</td>\n",
       "      <td>1</td>\n",
       "      <td>27</td>\n",
       "      <td>100</td>\n",
       "      <td>0</td>\n",
       "      <td>1</td>\n",
       "      <td>1</td>\n",
       "      <td>OUI</td>\n",
       "      <td>30</td>\n",
       "      <td>1</td>\n",
       "      <td>219.17</td>\n",
       "    </tr>\n",
       "    <tr>\n",
       "      <th>75965</th>\n",
       "      <td>7264</td>\n",
       "      <td>6</td>\n",
       "      <td>OUI</td>\n",
       "      <td>1000</td>\n",
       "      <td>Famille</td>\n",
       "      <td>enseignant; formateur; chercheur</td>\n",
       "      <td>Maison</td>\n",
       "      <td>1</td>\n",
       "      <td>2</td>\n",
       "      <td>C</td>\n",
       "      <td>...</td>\n",
       "      <td>0</td>\n",
       "      <td>135</td>\n",
       "      <td>34</td>\n",
       "      <td>1</td>\n",
       "      <td>0</td>\n",
       "      <td>1</td>\n",
       "      <td>NON</td>\n",
       "      <td>11</td>\n",
       "      <td>1</td>\n",
       "      <td>106.99</td>\n",
       "    </tr>\n",
       "    <tr>\n",
       "      <th>75966</th>\n",
       "      <td>50244</td>\n",
       "      <td>6</td>\n",
       "      <td>OUI</td>\n",
       "      <td>500</td>\n",
       "      <td>Famille</td>\n",
       "      <td>enseignant; formateur; chercheur</td>\n",
       "      <td>Maison</td>\n",
       "      <td>1</td>\n",
       "      <td>1</td>\n",
       "      <td>F</td>\n",
       "      <td>...</td>\n",
       "      <td>0</td>\n",
       "      <td>96</td>\n",
       "      <td>100</td>\n",
       "      <td>0</td>\n",
       "      <td>0</td>\n",
       "      <td>1</td>\n",
       "      <td>OUI</td>\n",
       "      <td>0</td>\n",
       "      <td>1</td>\n",
       "      <td>87.22</td>\n",
       "    </tr>\n",
       "    <tr>\n",
       "      <th>75967</th>\n",
       "      <td>75111</td>\n",
       "      <td>6</td>\n",
       "      <td>OUI</td>\n",
       "      <td>1000</td>\n",
       "      <td>Indivividu</td>\n",
       "      <td>enseignant; formateur; chercheur</td>\n",
       "      <td>Sans information</td>\n",
       "      <td>1</td>\n",
       "      <td>2</td>\n",
       "      <td>B</td>\n",
       "      <td>...</td>\n",
       "      <td>0</td>\n",
       "      <td>143</td>\n",
       "      <td>36</td>\n",
       "      <td>0</td>\n",
       "      <td>0</td>\n",
       "      <td>1</td>\n",
       "      <td>NON</td>\n",
       "      <td>30</td>\n",
       "      <td>1</td>\n",
       "      <td>89.63</td>\n",
       "    </tr>\n",
       "  </tbody>\n",
       "</table>\n",
       "<p>5 rows × 29 columns</p>\n",
       "</div>"
      ],
      "text/plain": [
       "       code_postal  nb_pieces veranda  biens_nomades     sit_fam  \\\n",
       "75963        91215          6     OUI           1000     Famille   \n",
       "75964        58083          6     OUI           1000     Famille   \n",
       "75965         7264          6     OUI           1000     Famille   \n",
       "75966        50244          6     OUI            500     Famille   \n",
       "75967        75111          6     OUI           1000  Indivividu   \n",
       "\n",
       "                             profession        nature_lri  societe  \\\n",
       "75963  enseignant; formateur; chercheur            Maison        1   \n",
       "75964  enseignant; formateur; chercheur            Maison        1   \n",
       "75965  enseignant; formateur; chercheur            Maison        1   \n",
       "75966  enseignant; formateur; chercheur            Maison        1   \n",
       "75967  enseignant; formateur; chercheur  Sans information        1   \n",
       "\n",
       "       domaine_activite niv_urbanisation      ...        var3  var4  var5  \\\n",
       "75963                 2                C      ...           1   156    39   \n",
       "75964                 1                E      ...           1    27   100   \n",
       "75965                 2                C      ...           0   135    34   \n",
       "75966                 1                F      ...           0    96   100   \n",
       "75967                 2                B      ...           0   143    36   \n",
       "\n",
       "       var6  var7  var8  var9  var10  var11  prime_tot_ttc  \n",
       "75963     1     1     1   NON     30      1         128.59  \n",
       "75964     0     1     1   OUI     30      1         219.17  \n",
       "75965     1     0     1   NON     11      1         106.99  \n",
       "75966     0     0     1   OUI      0      1          87.22  \n",
       "75967     0     0     1   NON     30      1          89.63  \n",
       "\n",
       "[5 rows x 29 columns]"
      ]
     },
     "execution_count": 87,
     "metadata": {},
     "output_type": "execute_result"
    }
   ],
   "source": [
    "test.tail()"
   ]
  },
  {
   "cell_type": "code",
   "execution_count": 104,
   "metadata": {},
   "outputs": [],
   "source": [
    "train.drop('code_postal', inplace = True, axis=1)\n",
    "test.drop('code_postal', inplace = True, axis=1)"
   ]
  },
  {
   "cell_type": "code",
   "execution_count": 105,
   "metadata": {
    "collapsed": true
   },
   "outputs": [],
   "source": [
    "y_train = train.prime_tot_ttc\n",
    "train.drop('prime_tot_ttc', inplace = True, axis=1)\n",
    "\n",
    "y_test = test.prime_tot_ttc\n",
    "test.drop('prime_tot_ttc', inplace = True, axis=1)"
   ]
  },
  {
   "cell_type": "code",
   "execution_count": 101,
   "metadata": {},
   "outputs": [
    {
     "name": "stdout",
     "output_type": "stream",
     "text": [
      "nb_pieces 5\n",
      "veranda 2\n",
      "biens_nomades 5\n",
      "sit_fam 2\n",
      "profession 18\n",
      "nature_lri 6\n",
      "societe 2\n",
      "domaine_activite 44\n",
      "niv_urbanisation 8\n",
      "age_societaire 83\n",
      "objets_precieux 2\n",
      "pres_contrat_auto 2\n",
      "formule 2\n",
      "sit_juridique 4\n",
      "surf_habitat 203\n",
      "patrimoine_mob 46247\n",
      "var1 40\n",
      "var2 10\n",
      "var3 2\n",
      "var4 297\n",
      "var5 22\n",
      "var6 2\n",
      "var7 2\n",
      "var8 6\n",
      "var9 2\n",
      "var10 15\n",
      "var11 2\n",
      "prime_tot_ttc 9552\n"
     ]
    }
   ],
   "source": [
    "for col in train.columns[1:]:\n",
    "    print(col, len(set(train[col])))"
   ]
  },
  {
   "cell_type": "code",
   "execution_count": 109,
   "metadata": {},
   "outputs": [],
   "source": [
    "numerical_col = ['var4', 'var1', 'patrimoine_mob', 'surf_habitat', 'age_societaire', 'domaine_activite']\n",
    "binary_col = ['veranda', 'sit_fam', 'societe','objets_precieux','pres_contrat_auto',\n",
    "             'formule', 'var3','var6','var7','var9','var11']\n",
    "categorical_col = list(set(train.columns).difference(set(numerical_col).union(set(binary_col))))"
   ]
  },
  {
   "cell_type": "code",
   "execution_count": 116,
   "metadata": {
    "collapsed": true
   },
   "outputs": [],
   "source": [
    "# To be used in training, data must be properly encoded\n",
    "from collections import defaultdict\n",
    "from sklearn.preprocessing import LabelEncoder, OneHotEncoder\n",
    "# function to encode categorical data\n",
    "\n",
    "\n",
    "def __encode_binary(df_list, cat_cols):\n",
    "    # initialize placeholder\n",
    "    d = defaultdict(LabelEncoder)\n",
    "    # fit and encode train/test,\n",
    "    codes = pd.concat([ df[cat_cols] for df in df_list],axis=0).fillna('').apply(lambda x: d[x.name].fit(x))\n",
    "    # transform encodings to train/test etc\n",
    "    for df in df_list:\n",
    "        df[cat_cols] = df[cat_cols].fillna('').apply(lambda x: d[x.name].transform(x))\n",
    "\n"
   ]
  },
  {
   "cell_type": "code",
   "execution_count": 114,
   "metadata": {},
   "outputs": [],
   "source": [
    "__encode_binary(df_list=[train, test], cat_cols=binary_col)"
   ]
  },
  {
   "cell_type": "code",
   "execution_count": 119,
   "metadata": {},
   "outputs": [
    {
     "name": "stderr",
     "output_type": "stream",
     "text": [
      "/home/marharyta/anaconda3/lib/python3.6/site-packages/pandas/core/frame.py:881: UserWarning: DataFrame columns are not unique, some columns will be omitted.\n",
      "  \"columns will be omitted.\", UserWarning)\n"
     ]
    },
    {
     "ename": "AttributeError",
     "evalue": "'str' object has no attribute 'items'",
     "output_type": "error",
     "traceback": [
      "\u001b[0;31m---------------------------------------------------------------------------\u001b[0m",
      "\u001b[0;31mAttributeError\u001b[0m                            Traceback (most recent call last)",
      "\u001b[0;32m<ipython-input-119-f0c87c322314>\u001b[0m in \u001b[0;36m<module>\u001b[0;34m()\u001b[0m\n\u001b[1;32m      6\u001b[0m \u001b[0mencoder\u001b[0m\u001b[0;34m.\u001b[0m\u001b[0mfit\u001b[0m\u001b[0;34m(\u001b[0m\u001b[0mcodes\u001b[0m\u001b[0;34m.\u001b[0m\u001b[0mT\u001b[0m\u001b[0;34m.\u001b[0m\u001b[0mto_dict\u001b[0m\u001b[0;34m(\u001b[0m\u001b[0;34m)\u001b[0m\u001b[0;34m.\u001b[0m\u001b[0mvalues\u001b[0m\u001b[0;34m(\u001b[0m\u001b[0;34m)\u001b[0m\u001b[0;34m)\u001b[0m\u001b[0;34m\u001b[0m\u001b[0m\n\u001b[1;32m      7\u001b[0m \u001b[0;34m\u001b[0m\u001b[0m\n\u001b[0;32m----> 8\u001b[0;31m \u001b[0mtrain_c\u001b[0m \u001b[0;34m=\u001b[0m \u001b[0mencoder\u001b[0m\u001b[0;34m.\u001b[0m\u001b[0mtransform\u001b[0m\u001b[0;34m(\u001b[0m\u001b[0mtrain\u001b[0m\u001b[0;34m[\u001b[0m\u001b[0mcategorical_col\u001b[0m\u001b[0;34m]\u001b[0m\u001b[0;34m)\u001b[0m\u001b[0;34m\u001b[0m\u001b[0m\n\u001b[0m\u001b[1;32m      9\u001b[0m \u001b[0mtest_c\u001b[0m \u001b[0;34m=\u001b[0m \u001b[0mencoder\u001b[0m\u001b[0;34m.\u001b[0m\u001b[0mtransform\u001b[0m\u001b[0;34m(\u001b[0m\u001b[0mtest\u001b[0m\u001b[0;34m[\u001b[0m\u001b[0mcategorical_col\u001b[0m\u001b[0;34m]\u001b[0m\u001b[0;34m)\u001b[0m\u001b[0;34m\u001b[0m\u001b[0m\n",
      "\u001b[0;32m~/anaconda3/lib/python3.6/site-packages/sklearn/feature_extraction/dict_vectorizer.py\u001b[0m in \u001b[0;36mtransform\u001b[0;34m(self, X)\u001b[0m\n\u001b[1;32m    298\u001b[0m \u001b[0;34m\u001b[0m\u001b[0m\n\u001b[1;32m    299\u001b[0m             \u001b[0;32mfor\u001b[0m \u001b[0mi\u001b[0m\u001b[0;34m,\u001b[0m \u001b[0mx\u001b[0m \u001b[0;32min\u001b[0m \u001b[0menumerate\u001b[0m\u001b[0;34m(\u001b[0m\u001b[0mX\u001b[0m\u001b[0;34m)\u001b[0m\u001b[0;34m:\u001b[0m\u001b[0;34m\u001b[0m\u001b[0m\n\u001b[0;32m--> 300\u001b[0;31m                 \u001b[0;32mfor\u001b[0m \u001b[0mf\u001b[0m\u001b[0;34m,\u001b[0m \u001b[0mv\u001b[0m \u001b[0;32min\u001b[0m \u001b[0msix\u001b[0m\u001b[0;34m.\u001b[0m\u001b[0miteritems\u001b[0m\u001b[0;34m(\u001b[0m\u001b[0mx\u001b[0m\u001b[0;34m)\u001b[0m\u001b[0;34m:\u001b[0m\u001b[0;34m\u001b[0m\u001b[0m\n\u001b[0m\u001b[1;32m    301\u001b[0m                     \u001b[0;32mif\u001b[0m \u001b[0misinstance\u001b[0m\u001b[0;34m(\u001b[0m\u001b[0mv\u001b[0m\u001b[0;34m,\u001b[0m \u001b[0msix\u001b[0m\u001b[0;34m.\u001b[0m\u001b[0mstring_types\u001b[0m\u001b[0;34m)\u001b[0m\u001b[0;34m:\u001b[0m\u001b[0;34m\u001b[0m\u001b[0m\n\u001b[1;32m    302\u001b[0m                         \u001b[0mf\u001b[0m \u001b[0;34m=\u001b[0m \u001b[0;34m\"%s%s%s\"\u001b[0m \u001b[0;34m%\u001b[0m \u001b[0;34m(\u001b[0m\u001b[0mf\u001b[0m\u001b[0;34m,\u001b[0m \u001b[0mself\u001b[0m\u001b[0;34m.\u001b[0m\u001b[0mseparator\u001b[0m\u001b[0;34m,\u001b[0m \u001b[0mv\u001b[0m\u001b[0;34m)\u001b[0m\u001b[0;34m\u001b[0m\u001b[0m\n",
      "\u001b[0;32m~/anaconda3/lib/python3.6/site-packages/sklearn/externals/six.py\u001b[0m in \u001b[0;36miteritems\u001b[0;34m(d, **kw)\u001b[0m\n\u001b[1;32m    437\u001b[0m \u001b[0;32mdef\u001b[0m \u001b[0miteritems\u001b[0m\u001b[0;34m(\u001b[0m\u001b[0md\u001b[0m\u001b[0;34m,\u001b[0m \u001b[0;34m**\u001b[0m\u001b[0mkw\u001b[0m\u001b[0;34m)\u001b[0m\u001b[0;34m:\u001b[0m\u001b[0;34m\u001b[0m\u001b[0m\n\u001b[1;32m    438\u001b[0m     \u001b[0;34m\"\"\"Return an iterator over the (key, value) pairs of a dictionary.\"\"\"\u001b[0m\u001b[0;34m\u001b[0m\u001b[0m\n\u001b[0;32m--> 439\u001b[0;31m     \u001b[0;32mreturn\u001b[0m \u001b[0miter\u001b[0m\u001b[0;34m(\u001b[0m\u001b[0mgetattr\u001b[0m\u001b[0;34m(\u001b[0m\u001b[0md\u001b[0m\u001b[0;34m,\u001b[0m \u001b[0m_iteritems\u001b[0m\u001b[0;34m)\u001b[0m\u001b[0;34m(\u001b[0m\u001b[0;34m**\u001b[0m\u001b[0mkw\u001b[0m\u001b[0;34m)\u001b[0m\u001b[0;34m)\u001b[0m\u001b[0;34m\u001b[0m\u001b[0m\n\u001b[0m\u001b[1;32m    440\u001b[0m \u001b[0;34m\u001b[0m\u001b[0m\n\u001b[1;32m    441\u001b[0m \u001b[0;32mdef\u001b[0m \u001b[0miterlists\u001b[0m\u001b[0;34m(\u001b[0m\u001b[0md\u001b[0m\u001b[0;34m,\u001b[0m \u001b[0;34m**\u001b[0m\u001b[0mkw\u001b[0m\u001b[0;34m)\u001b[0m\u001b[0;34m:\u001b[0m\u001b[0;34m\u001b[0m\u001b[0m\n",
      "\u001b[0;31mAttributeError\u001b[0m: 'str' object has no attribute 'items'"
     ]
    }
   ],
   "source": [
    "from sklearn.feature_extraction import DictVectorizer as DV\n",
    "\n",
    "encoder = DV(sparse = False)\n",
    "codes = pd.concat([train[categorical_col], test[categorical_col]],axis=0)\n",
    "\n",
    "encoder.fit(codes.T.to_dict().values())\n",
    "\n",
    "train_c = encoder.transform(train[categorical_col])\n",
    "test_c = encoder.transform(test[categorical_col])"
   ]
  }
 ],
 "metadata": {
  "kernelspec": {
   "display_name": "Python 3",
   "language": "python",
   "name": "python3"
  },
  "language_info": {
   "codemirror_mode": {
    "name": "ipython",
    "version": 3
   },
   "file_extension": ".py",
   "mimetype": "text/x-python",
   "name": "python",
   "nbconvert_exporter": "python",
   "pygments_lexer": "ipython3",
   "version": "3.6.3"
  }
 },
 "nbformat": 4,
 "nbformat_minor": 2
}
